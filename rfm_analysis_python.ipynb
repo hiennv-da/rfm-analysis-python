{
 "cells": [
  {
   "cell_type": "code",
   "execution_count": 1,
   "id": "1c866bb7-eaec-4916-9fb3-c44e4ec37c17",
   "metadata": {},
   "outputs": [],
   "source": [
    "import pandas as pd\n",
    "from datetime import datetime\n",
    "import numpy as np\n",
    "import seaborn as sns\n",
    "import matplotlib.pyplot as plt"
   ]
  },
  {
   "cell_type": "markdown",
   "id": "badf3a08-4fdb-49e9-853d-8a052c27d714",
   "metadata": {},
   "source": [
    "#### rfm là gì?\n",
    "rfm là kỹ thuật phân khúc khách hàng dựa trên 3 thuộc tính: \n",
    "- (1) bao lâu rồi khách hàng chưa mua hàng (recency - R)\n",
    "- (2) tuần suất mua (frequencey - F)\n",
    "- (3) tổng số tiền đã mua (monetary)"
   ]
  },
  {
   "cell_type": "markdown",
   "id": "abf30689-1a43-4da1-8d3e-9aa49e6efae5",
   "metadata": {},
   "source": [
    "#### ứng dụng rfm?\n",
    "rfm hữu ích trong target marketing, thông qua việc phân loại khách hàng thành nhiều nhóm với những hành vi tương tự nhau sẽ giúp cho việc marketing trở nên hiệu quả (đúng thông điệp, đúng đối tượng)"
   ]
  },
  {
   "cell_type": "markdown",
   "id": "1839885a-6401-47ed-a4a0-c59512c91751",
   "metadata": {},
   "source": [
    "#### bài viết này tập trung vào việc chia sẻ các bước cơ bản để làm phân tích và tạo ra dashboard để theo dõi"
   ]
  },
  {
   "cell_type": "markdown",
   "id": "177e38b9-1bd5-43b1-b1b1-d62d91bd439a",
   "metadata": {},
   "source": [
    "#### dashboard: https://datastudio.google.com/u/0/reporting/ef783a42-25e9-4d8f-b6e8-2c1d6d5b51bc/page/wHj8C"
   ]
  },
  {
   "cell_type": "code",
   "execution_count": null,
   "id": "6dd23be3-c43c-4562-8b26-e0974e3d86c3",
   "metadata": {},
   "outputs": [],
   "source": []
  },
  {
   "cell_type": "code",
   "execution_count": null,
   "id": "a0734a57-8ea7-4d67-ac96-441563d33599",
   "metadata": {},
   "outputs": [],
   "source": []
  },
  {
   "cell_type": "markdown",
   "id": "86ea5d4e-1679-46b1-842b-df6272c2b454",
   "metadata": {},
   "source": [
    "#### thực hiện phân tích rfm\n",
    "- sử dụng python\n",
    "- phương pháp phân khúc mỗi thuộc tính R - F - M: equal frequency binning\n",
    "- gắn nhãn cho RFM: tham chiếu https://docs.clevertap.com/docs/rfm"
   ]
  },
  {
   "cell_type": "markdown",
   "id": "9f77573d-0efb-4a18-a3e1-0139b72cb3ce",
   "metadata": {},
   "source": [
    "![caption](rfm_label.png)"
   ]
  },
  {
   "cell_type": "markdown",
   "id": "0cf93335-2f33-472a-98bf-3201c74df660",
   "metadata": {},
   "source": [
    "#### Nguồn dữ liệu: https://www.kaggle.com/datasets/mashlyn/online-retail-ii-uci\n",
    "#### Các cột:\n",
    "InvoiceNo: Invoice number. Nominal. A 6-digit integral number uniquely assigned to each transaction. \n",
    "If this code starts with the letter 'c', it indicates a cancellation.<br>\n",
    "StockCode: Product (item) code. Nominal. A 5-digit integral number uniquely assigned to each distinct product.<br>\n",
    "Description: Product (item) name. Nominal.<br>\n",
    "Quantity: The quantities of each product (item) per transaction. Numeric.<br>\n",
    "InvoiceDate: Invice date and time. Numeric. The day and time when a transaction was generated.<br>\n",
    "UnitPrice: Unit price. Numeric. Product price per unit in sterling (Â£).<br>\n",
    "Customer ID: Customer number. Nominal. A 5-digit integral number uniquely assigned to each customer.<br>\n",
    "Country: Country name. Nominal. The name of the country where a customer resides.<br>"
   ]
  },
  {
   "cell_type": "markdown",
   "id": "6d832a26-60d6-4816-8c21-4e72fb27d301",
   "metadata": {},
   "source": [
    "#### xem qua dữ liệu và clean dựa trên các mô tả thông tin cột đã có sẵn"
   ]
  },
  {
   "cell_type": "code",
   "execution_count": 2,
   "id": "f2d574f7-61aa-4b9c-9308-9ba2ef8181bf",
   "metadata": {},
   "outputs": [],
   "source": [
    "dfs = pd.read_csv(r\"C:\\Users\\PC\\Downloads\\online_retail_II.csv\\online_retail_II.csv\")"
   ]
  },
  {
   "cell_type": "code",
   "execution_count": 3,
   "id": "6bb128e6-aa12-4914-bdb7-76df0c3dab71",
   "metadata": {},
   "outputs": [
    {
     "data": {
      "text/html": [
       "<div>\n",
       "<style scoped>\n",
       "    .dataframe tbody tr th:only-of-type {\n",
       "        vertical-align: middle;\n",
       "    }\n",
       "\n",
       "    .dataframe tbody tr th {\n",
       "        vertical-align: top;\n",
       "    }\n",
       "\n",
       "    .dataframe thead th {\n",
       "        text-align: right;\n",
       "    }\n",
       "</style>\n",
       "<table border=\"1\" class=\"dataframe\">\n",
       "  <thead>\n",
       "    <tr style=\"text-align: right;\">\n",
       "      <th></th>\n",
       "      <th>Invoice</th>\n",
       "      <th>StockCode</th>\n",
       "      <th>Description</th>\n",
       "      <th>Quantity</th>\n",
       "      <th>InvoiceDate</th>\n",
       "      <th>Price</th>\n",
       "      <th>Customer ID</th>\n",
       "      <th>Country</th>\n",
       "    </tr>\n",
       "  </thead>\n",
       "  <tbody>\n",
       "    <tr>\n",
       "      <th>0</th>\n",
       "      <td>489434</td>\n",
       "      <td>85048</td>\n",
       "      <td>15CM CHRISTMAS GLASS BALL 20 LIGHTS</td>\n",
       "      <td>12</td>\n",
       "      <td>2009-12-01 07:45:00</td>\n",
       "      <td>6.95</td>\n",
       "      <td>13085.0</td>\n",
       "      <td>United Kingdom</td>\n",
       "    </tr>\n",
       "    <tr>\n",
       "      <th>1</th>\n",
       "      <td>489434</td>\n",
       "      <td>79323P</td>\n",
       "      <td>PINK CHERRY LIGHTS</td>\n",
       "      <td>12</td>\n",
       "      <td>2009-12-01 07:45:00</td>\n",
       "      <td>6.75</td>\n",
       "      <td>13085.0</td>\n",
       "      <td>United Kingdom</td>\n",
       "    </tr>\n",
       "  </tbody>\n",
       "</table>\n",
       "</div>"
      ],
      "text/plain": [
       "  Invoice StockCode                          Description  Quantity  \\\n",
       "0  489434     85048  15CM CHRISTMAS GLASS BALL 20 LIGHTS        12   \n",
       "1  489434    79323P                   PINK CHERRY LIGHTS        12   \n",
       "\n",
       "           InvoiceDate  Price  Customer ID         Country  \n",
       "0  2009-12-01 07:45:00   6.95      13085.0  United Kingdom  \n",
       "1  2009-12-01 07:45:00   6.75      13085.0  United Kingdom  "
      ]
     },
     "execution_count": 3,
     "metadata": {},
     "output_type": "execute_result"
    }
   ],
   "source": [
    "dfs.head(2)"
   ]
  },
  {
   "cell_type": "code",
   "execution_count": 4,
   "id": "e7eb8c06-1f32-4625-9621-8d7f266dd238",
   "metadata": {},
   "outputs": [
    {
     "data": {
      "text/plain": [
       "Invoice             0\n",
       "StockCode           0\n",
       "Description      4382\n",
       "Quantity            0\n",
       "InvoiceDate         0\n",
       "Price               0\n",
       "Customer ID    243007\n",
       "Country             0\n",
       "dtype: int64"
      ]
     },
     "execution_count": 4,
     "metadata": {},
     "output_type": "execute_result"
    }
   ],
   "source": [
    "dfs.isna().sum()"
   ]
  },
  {
   "cell_type": "code",
   "execution_count": 5,
   "id": "e2e3d63a-0753-492f-bc1d-e7f92d2efb32",
   "metadata": {},
   "outputs": [],
   "source": [
    "dfs = dfs[(dfs['Customer ID'].notna()) & (dfs.Description.notna())]"
   ]
  },
  {
   "cell_type": "code",
   "execution_count": 6,
   "id": "4b86a366-9cbc-451c-ad4d-09ad04717646",
   "metadata": {},
   "outputs": [
    {
     "name": "stdout",
     "output_type": "stream",
     "text": [
      "<class 'pandas.core.frame.DataFrame'>\n",
      "Int64Index: 824364 entries, 0 to 1067370\n",
      "Data columns (total 8 columns):\n",
      " #   Column       Non-Null Count   Dtype  \n",
      "---  ------       --------------   -----  \n",
      " 0   Invoice      824364 non-null  object \n",
      " 1   StockCode    824364 non-null  object \n",
      " 2   Description  824364 non-null  object \n",
      " 3   Quantity     824364 non-null  int64  \n",
      " 4   InvoiceDate  824364 non-null  object \n",
      " 5   Price        824364 non-null  float64\n",
      " 6   Customer ID  824364 non-null  float64\n",
      " 7   Country      824364 non-null  object \n",
      "dtypes: float64(2), int64(1), object(5)\n",
      "memory usage: 56.6+ MB\n"
     ]
    }
   ],
   "source": [
    "dfs.info()"
   ]
  },
  {
   "cell_type": "markdown",
   "id": "aa508f8e-690e-40bd-b410-59fd376e8032",
   "metadata": {},
   "source": [
    "#### Invoice No"
   ]
  },
  {
   "cell_type": "code",
   "execution_count": 7,
   "id": "584b9189-2779-4ae9-9ef6-37eb94518e29",
   "metadata": {},
   "outputs": [
    {
     "data": {
      "text/plain": [
       "{6, 7}"
      ]
     },
     "execution_count": 7,
     "metadata": {},
     "output_type": "execute_result"
    }
   ],
   "source": [
    "set(dfs.Invoice.str.len())"
   ]
  },
  {
   "cell_type": "code",
   "execution_count": 8,
   "id": "94b0ac20-8f81-483d-9f68-f8a698b4bb03",
   "metadata": {},
   "outputs": [
    {
     "data": {
      "text/html": [
       "<div>\n",
       "<style scoped>\n",
       "    .dataframe tbody tr th:only-of-type {\n",
       "        vertical-align: middle;\n",
       "    }\n",
       "\n",
       "    .dataframe tbody tr th {\n",
       "        vertical-align: top;\n",
       "    }\n",
       "\n",
       "    .dataframe thead th {\n",
       "        text-align: right;\n",
       "    }\n",
       "</style>\n",
       "<table border=\"1\" class=\"dataframe\">\n",
       "  <thead>\n",
       "    <tr style=\"text-align: right;\">\n",
       "      <th></th>\n",
       "      <th>Invoice</th>\n",
       "      <th>StockCode</th>\n",
       "      <th>Description</th>\n",
       "      <th>Quantity</th>\n",
       "      <th>InvoiceDate</th>\n",
       "      <th>Price</th>\n",
       "      <th>Customer ID</th>\n",
       "      <th>Country</th>\n",
       "    </tr>\n",
       "  </thead>\n",
       "  <tbody>\n",
       "    <tr>\n",
       "      <th>178</th>\n",
       "      <td>C489449</td>\n",
       "      <td>22087</td>\n",
       "      <td>PAPER BUNTING WHITE LACE</td>\n",
       "      <td>-12</td>\n",
       "      <td>2009-12-01 10:33:00</td>\n",
       "      <td>2.95</td>\n",
       "      <td>16321.0</td>\n",
       "      <td>Australia</td>\n",
       "    </tr>\n",
       "    <tr>\n",
       "      <th>179</th>\n",
       "      <td>C489449</td>\n",
       "      <td>85206A</td>\n",
       "      <td>CREAM FELT EASTER EGG BASKET</td>\n",
       "      <td>-6</td>\n",
       "      <td>2009-12-01 10:33:00</td>\n",
       "      <td>1.65</td>\n",
       "      <td>16321.0</td>\n",
       "      <td>Australia</td>\n",
       "    </tr>\n",
       "    <tr>\n",
       "      <th>180</th>\n",
       "      <td>C489449</td>\n",
       "      <td>21895</td>\n",
       "      <td>POTTING SHED SOW 'N' GROW SET</td>\n",
       "      <td>-4</td>\n",
       "      <td>2009-12-01 10:33:00</td>\n",
       "      <td>4.25</td>\n",
       "      <td>16321.0</td>\n",
       "      <td>Australia</td>\n",
       "    </tr>\n",
       "    <tr>\n",
       "      <th>181</th>\n",
       "      <td>C489449</td>\n",
       "      <td>21896</td>\n",
       "      <td>POTTING SHED TWINE</td>\n",
       "      <td>-6</td>\n",
       "      <td>2009-12-01 10:33:00</td>\n",
       "      <td>2.10</td>\n",
       "      <td>16321.0</td>\n",
       "      <td>Australia</td>\n",
       "    </tr>\n",
       "    <tr>\n",
       "      <th>182</th>\n",
       "      <td>C489449</td>\n",
       "      <td>22083</td>\n",
       "      <td>PAPER CHAIN KIT RETRO SPOT</td>\n",
       "      <td>-12</td>\n",
       "      <td>2009-12-01 10:33:00</td>\n",
       "      <td>2.95</td>\n",
       "      <td>16321.0</td>\n",
       "      <td>Australia</td>\n",
       "    </tr>\n",
       "  </tbody>\n",
       "</table>\n",
       "</div>"
      ],
      "text/plain": [
       "     Invoice StockCode                    Description  Quantity  \\\n",
       "178  C489449     22087       PAPER BUNTING WHITE LACE       -12   \n",
       "179  C489449    85206A   CREAM FELT EASTER EGG BASKET        -6   \n",
       "180  C489449     21895  POTTING SHED SOW 'N' GROW SET        -4   \n",
       "181  C489449     21896             POTTING SHED TWINE        -6   \n",
       "182  C489449     22083     PAPER CHAIN KIT RETRO SPOT       -12   \n",
       "\n",
       "             InvoiceDate  Price  Customer ID    Country  \n",
       "178  2009-12-01 10:33:00   2.95      16321.0  Australia  \n",
       "179  2009-12-01 10:33:00   1.65      16321.0  Australia  \n",
       "180  2009-12-01 10:33:00   4.25      16321.0  Australia  \n",
       "181  2009-12-01 10:33:00   2.10      16321.0  Australia  \n",
       "182  2009-12-01 10:33:00   2.95      16321.0  Australia  "
      ]
     },
     "execution_count": 8,
     "metadata": {},
     "output_type": "execute_result"
    }
   ],
   "source": [
    "dfs[dfs['Invoice'].str.len() != 6].head()"
   ]
  },
  {
   "cell_type": "code",
   "execution_count": 9,
   "id": "9d0ebc10-a3ee-423e-81b2-4aa034ed3c7c",
   "metadata": {},
   "outputs": [],
   "source": [
    "dfs = dfs[(dfs['Invoice'].str[:1]!='C') & (dfs['Invoice'].str.isdigit())].reset_index(drop=True)"
   ]
  },
  {
   "cell_type": "code",
   "execution_count": 10,
   "id": "6a2c193e-b506-4c56-a1c6-874f4fbcaba6",
   "metadata": {},
   "outputs": [
    {
     "data": {
      "text/html": [
       "<div>\n",
       "<style scoped>\n",
       "    .dataframe tbody tr th:only-of-type {\n",
       "        vertical-align: middle;\n",
       "    }\n",
       "\n",
       "    .dataframe tbody tr th {\n",
       "        vertical-align: top;\n",
       "    }\n",
       "\n",
       "    .dataframe thead th {\n",
       "        text-align: right;\n",
       "    }\n",
       "</style>\n",
       "<table border=\"1\" class=\"dataframe\">\n",
       "  <thead>\n",
       "    <tr style=\"text-align: right;\">\n",
       "      <th></th>\n",
       "      <th>Invoice</th>\n",
       "      <th>StockCode</th>\n",
       "      <th>Description</th>\n",
       "      <th>Quantity</th>\n",
       "      <th>InvoiceDate</th>\n",
       "      <th>Price</th>\n",
       "      <th>Customer ID</th>\n",
       "      <th>Country</th>\n",
       "    </tr>\n",
       "  </thead>\n",
       "  <tbody>\n",
       "    <tr>\n",
       "      <th>0</th>\n",
       "      <td>489434</td>\n",
       "      <td>85048</td>\n",
       "      <td>15CM CHRISTMAS GLASS BALL 20 LIGHTS</td>\n",
       "      <td>12</td>\n",
       "      <td>2009-12-01 07:45:00</td>\n",
       "      <td>6.95</td>\n",
       "      <td>13085.0</td>\n",
       "      <td>United Kingdom</td>\n",
       "    </tr>\n",
       "    <tr>\n",
       "      <th>1</th>\n",
       "      <td>489434</td>\n",
       "      <td>79323P</td>\n",
       "      <td>PINK CHERRY LIGHTS</td>\n",
       "      <td>12</td>\n",
       "      <td>2009-12-01 07:45:00</td>\n",
       "      <td>6.75</td>\n",
       "      <td>13085.0</td>\n",
       "      <td>United Kingdom</td>\n",
       "    </tr>\n",
       "    <tr>\n",
       "      <th>2</th>\n",
       "      <td>489434</td>\n",
       "      <td>79323W</td>\n",
       "      <td>WHITE CHERRY LIGHTS</td>\n",
       "      <td>12</td>\n",
       "      <td>2009-12-01 07:45:00</td>\n",
       "      <td>6.75</td>\n",
       "      <td>13085.0</td>\n",
       "      <td>United Kingdom</td>\n",
       "    </tr>\n",
       "    <tr>\n",
       "      <th>3</th>\n",
       "      <td>489434</td>\n",
       "      <td>22041</td>\n",
       "      <td>RECORD FRAME 7\" SINGLE SIZE</td>\n",
       "      <td>48</td>\n",
       "      <td>2009-12-01 07:45:00</td>\n",
       "      <td>2.10</td>\n",
       "      <td>13085.0</td>\n",
       "      <td>United Kingdom</td>\n",
       "    </tr>\n",
       "    <tr>\n",
       "      <th>4</th>\n",
       "      <td>489434</td>\n",
       "      <td>21232</td>\n",
       "      <td>STRAWBERRY CERAMIC TRINKET BOX</td>\n",
       "      <td>24</td>\n",
       "      <td>2009-12-01 07:45:00</td>\n",
       "      <td>1.25</td>\n",
       "      <td>13085.0</td>\n",
       "      <td>United Kingdom</td>\n",
       "    </tr>\n",
       "  </tbody>\n",
       "</table>\n",
       "</div>"
      ],
      "text/plain": [
       "  Invoice StockCode                          Description  Quantity  \\\n",
       "0  489434     85048  15CM CHRISTMAS GLASS BALL 20 LIGHTS        12   \n",
       "1  489434    79323P                   PINK CHERRY LIGHTS        12   \n",
       "2  489434    79323W                  WHITE CHERRY LIGHTS        12   \n",
       "3  489434     22041         RECORD FRAME 7\" SINGLE SIZE         48   \n",
       "4  489434     21232       STRAWBERRY CERAMIC TRINKET BOX        24   \n",
       "\n",
       "           InvoiceDate  Price  Customer ID         Country  \n",
       "0  2009-12-01 07:45:00   6.95      13085.0  United Kingdom  \n",
       "1  2009-12-01 07:45:00   6.75      13085.0  United Kingdom  \n",
       "2  2009-12-01 07:45:00   6.75      13085.0  United Kingdom  \n",
       "3  2009-12-01 07:45:00   2.10      13085.0  United Kingdom  \n",
       "4  2009-12-01 07:45:00   1.25      13085.0  United Kingdom  "
      ]
     },
     "execution_count": 10,
     "metadata": {},
     "output_type": "execute_result"
    }
   ],
   "source": [
    "dfs.head()"
   ]
  },
  {
   "cell_type": "markdown",
   "id": "b19a7640-4347-43ea-8514-bf8b5e7152e7",
   "metadata": {},
   "source": [
    "#### Stock Code"
   ]
  },
  {
   "cell_type": "code",
   "execution_count": 11,
   "id": "aeaaf242-ae61-4816-9384-b93e5aff4332",
   "metadata": {},
   "outputs": [
    {
     "data": {
      "text/plain": [
       "{1, 2, 3, 4, 5, 6, 7, 12}"
      ]
     },
     "execution_count": 11,
     "metadata": {},
     "output_type": "execute_result"
    }
   ],
   "source": [
    "set(dfs.StockCode.str.len())"
   ]
  },
  {
   "cell_type": "code",
   "execution_count": 12,
   "id": "ec1616a2-c7a8-4b05-8edc-8f27e68ee0ef",
   "metadata": {},
   "outputs": [
    {
     "data": {
      "text/html": [
       "<div>\n",
       "<style scoped>\n",
       "    .dataframe tbody tr th:only-of-type {\n",
       "        vertical-align: middle;\n",
       "    }\n",
       "\n",
       "    .dataframe tbody tr th {\n",
       "        vertical-align: top;\n",
       "    }\n",
       "\n",
       "    .dataframe thead th {\n",
       "        text-align: right;\n",
       "    }\n",
       "</style>\n",
       "<table border=\"1\" class=\"dataframe\">\n",
       "  <thead>\n",
       "    <tr style=\"text-align: right;\">\n",
       "      <th></th>\n",
       "      <th>Invoice</th>\n",
       "      <th>StockCode</th>\n",
       "      <th>Description</th>\n",
       "      <th>Quantity</th>\n",
       "      <th>InvoiceDate</th>\n",
       "      <th>Price</th>\n",
       "      <th>Customer ID</th>\n",
       "      <th>Country</th>\n",
       "    </tr>\n",
       "  </thead>\n",
       "  <tbody>\n",
       "    <tr>\n",
       "      <th>1</th>\n",
       "      <td>489434</td>\n",
       "      <td>79323P</td>\n",
       "      <td>PINK CHERRY LIGHTS</td>\n",
       "      <td>12</td>\n",
       "      <td>2009-12-01 07:45:00</td>\n",
       "      <td>6.75</td>\n",
       "      <td>13085.0</td>\n",
       "      <td>United Kingdom</td>\n",
       "    </tr>\n",
       "    <tr>\n",
       "      <th>2</th>\n",
       "      <td>489434</td>\n",
       "      <td>79323W</td>\n",
       "      <td>WHITE CHERRY LIGHTS</td>\n",
       "      <td>12</td>\n",
       "      <td>2009-12-01 07:45:00</td>\n",
       "      <td>6.75</td>\n",
       "      <td>13085.0</td>\n",
       "      <td>United Kingdom</td>\n",
       "    </tr>\n",
       "    <tr>\n",
       "      <th>12</th>\n",
       "      <td>489436</td>\n",
       "      <td>48173C</td>\n",
       "      <td>DOOR MAT BLACK FLOCK</td>\n",
       "      <td>10</td>\n",
       "      <td>2009-12-01 09:06:00</td>\n",
       "      <td>5.95</td>\n",
       "      <td>13078.0</td>\n",
       "      <td>United Kingdom</td>\n",
       "    </tr>\n",
       "    <tr>\n",
       "      <th>23</th>\n",
       "      <td>489436</td>\n",
       "      <td>35004B</td>\n",
       "      <td>SET OF 3 BLACK FLYING DUCKS</td>\n",
       "      <td>12</td>\n",
       "      <td>2009-12-01 09:06:00</td>\n",
       "      <td>4.65</td>\n",
       "      <td>13078.0</td>\n",
       "      <td>United Kingdom</td>\n",
       "    </tr>\n",
       "    <tr>\n",
       "      <th>28</th>\n",
       "      <td>489436</td>\n",
       "      <td>84596F</td>\n",
       "      <td>SMALL MARSHMALLOWS PINK BOWL</td>\n",
       "      <td>8</td>\n",
       "      <td>2009-12-01 09:06:00</td>\n",
       "      <td>1.25</td>\n",
       "      <td>13078.0</td>\n",
       "      <td>United Kingdom</td>\n",
       "    </tr>\n",
       "  </tbody>\n",
       "</table>\n",
       "</div>"
      ],
      "text/plain": [
       "   Invoice StockCode                   Description  Quantity  \\\n",
       "1   489434    79323P            PINK CHERRY LIGHTS        12   \n",
       "2   489434    79323W           WHITE CHERRY LIGHTS        12   \n",
       "12  489436    48173C         DOOR MAT BLACK FLOCK         10   \n",
       "23  489436    35004B   SET OF 3 BLACK FLYING DUCKS        12   \n",
       "28  489436    84596F  SMALL MARSHMALLOWS PINK BOWL         8   \n",
       "\n",
       "            InvoiceDate  Price  Customer ID         Country  \n",
       "1   2009-12-01 07:45:00   6.75      13085.0  United Kingdom  \n",
       "2   2009-12-01 07:45:00   6.75      13085.0  United Kingdom  \n",
       "12  2009-12-01 09:06:00   5.95      13078.0  United Kingdom  \n",
       "23  2009-12-01 09:06:00   4.65      13078.0  United Kingdom  \n",
       "28  2009-12-01 09:06:00   1.25      13078.0  United Kingdom  "
      ]
     },
     "execution_count": 12,
     "metadata": {},
     "output_type": "execute_result"
    }
   ],
   "source": [
    "dfs[dfs['StockCode'].str.len() != 5].head()"
   ]
  },
  {
   "cell_type": "code",
   "execution_count": 13,
   "id": "de21d295-ccf0-4b79-b399-7682e0847f7a",
   "metadata": {},
   "outputs": [
    {
     "data": {
      "text/html": [
       "<div>\n",
       "<style scoped>\n",
       "    .dataframe tbody tr th:only-of-type {\n",
       "        vertical-align: middle;\n",
       "    }\n",
       "\n",
       "    .dataframe tbody tr th {\n",
       "        vertical-align: top;\n",
       "    }\n",
       "\n",
       "    .dataframe thead th {\n",
       "        text-align: right;\n",
       "    }\n",
       "</style>\n",
       "<table border=\"1\" class=\"dataframe\">\n",
       "  <thead>\n",
       "    <tr style=\"text-align: right;\">\n",
       "      <th></th>\n",
       "      <th>Invoice</th>\n",
       "      <th>StockCode</th>\n",
       "      <th>Description</th>\n",
       "      <th>Quantity</th>\n",
       "      <th>InvoiceDate</th>\n",
       "      <th>Price</th>\n",
       "      <th>Customer ID</th>\n",
       "      <th>Country</th>\n",
       "    </tr>\n",
       "  </thead>\n",
       "  <tbody>\n",
       "    <tr>\n",
       "      <th>0</th>\n",
       "      <td>489434</td>\n",
       "      <td>85048</td>\n",
       "      <td>15CM CHRISTMAS GLASS BALL 20 LIGHTS</td>\n",
       "      <td>12</td>\n",
       "      <td>2009-12-01 07:45:00</td>\n",
       "      <td>6.95</td>\n",
       "      <td>13085.0</td>\n",
       "      <td>United Kingdom</td>\n",
       "    </tr>\n",
       "    <tr>\n",
       "      <th>1</th>\n",
       "      <td>489434</td>\n",
       "      <td>22041</td>\n",
       "      <td>RECORD FRAME 7\" SINGLE SIZE</td>\n",
       "      <td>48</td>\n",
       "      <td>2009-12-01 07:45:00</td>\n",
       "      <td>2.10</td>\n",
       "      <td>13085.0</td>\n",
       "      <td>United Kingdom</td>\n",
       "    </tr>\n",
       "    <tr>\n",
       "      <th>2</th>\n",
       "      <td>489434</td>\n",
       "      <td>21232</td>\n",
       "      <td>STRAWBERRY CERAMIC TRINKET BOX</td>\n",
       "      <td>24</td>\n",
       "      <td>2009-12-01 07:45:00</td>\n",
       "      <td>1.25</td>\n",
       "      <td>13085.0</td>\n",
       "      <td>United Kingdom</td>\n",
       "    </tr>\n",
       "    <tr>\n",
       "      <th>3</th>\n",
       "      <td>489434</td>\n",
       "      <td>22064</td>\n",
       "      <td>PINK DOUGHNUT TRINKET POT</td>\n",
       "      <td>24</td>\n",
       "      <td>2009-12-01 07:45:00</td>\n",
       "      <td>1.65</td>\n",
       "      <td>13085.0</td>\n",
       "      <td>United Kingdom</td>\n",
       "    </tr>\n",
       "    <tr>\n",
       "      <th>4</th>\n",
       "      <td>489434</td>\n",
       "      <td>21871</td>\n",
       "      <td>SAVE THE PLANET MUG</td>\n",
       "      <td>24</td>\n",
       "      <td>2009-12-01 07:45:00</td>\n",
       "      <td>1.25</td>\n",
       "      <td>13085.0</td>\n",
       "      <td>United Kingdom</td>\n",
       "    </tr>\n",
       "  </tbody>\n",
       "</table>\n",
       "</div>"
      ],
      "text/plain": [
       "  Invoice StockCode                          Description  Quantity  \\\n",
       "0  489434     85048  15CM CHRISTMAS GLASS BALL 20 LIGHTS        12   \n",
       "1  489434     22041         RECORD FRAME 7\" SINGLE SIZE         48   \n",
       "2  489434     21232       STRAWBERRY CERAMIC TRINKET BOX        24   \n",
       "3  489434     22064           PINK DOUGHNUT TRINKET POT         24   \n",
       "4  489434     21871                  SAVE THE PLANET MUG        24   \n",
       "\n",
       "           InvoiceDate  Price  Customer ID         Country  \n",
       "0  2009-12-01 07:45:00   6.95      13085.0  United Kingdom  \n",
       "1  2009-12-01 07:45:00   2.10      13085.0  United Kingdom  \n",
       "2  2009-12-01 07:45:00   1.25      13085.0  United Kingdom  \n",
       "3  2009-12-01 07:45:00   1.65      13085.0  United Kingdom  \n",
       "4  2009-12-01 07:45:00   1.25      13085.0  United Kingdom  "
      ]
     },
     "execution_count": 13,
     "metadata": {},
     "output_type": "execute_result"
    }
   ],
   "source": [
    "dfs = dfs[(dfs['StockCode'].str.len() == 5) & (dfs['StockCode'].str.isdigit())].reset_index(drop=True)\n",
    "dfs.head()"
   ]
  },
  {
   "cell_type": "markdown",
   "id": "13ec0397-458c-4331-bc65-064891305bb7",
   "metadata": {},
   "source": [
    "#### Quantity"
   ]
  },
  {
   "cell_type": "code",
   "execution_count": 14,
   "id": "fad18a4a-9d9e-4584-9ce5-12ec26579af9",
   "metadata": {},
   "outputs": [
    {
     "data": {
      "text/plain": [
       "{True}"
      ]
     },
     "execution_count": 14,
     "metadata": {},
     "output_type": "execute_result"
    }
   ],
   "source": [
    "set(dfs['Quantity'].astype(str).str.isdigit())"
   ]
  },
  {
   "cell_type": "markdown",
   "id": "276006c0-0fa9-4d6b-a899-7761d9801b56",
   "metadata": {},
   "source": [
    "#### datetime"
   ]
  },
  {
   "cell_type": "code",
   "execution_count": 15,
   "id": "fd4cb549-93af-4ab2-94cc-5a8cba5d53b6",
   "metadata": {},
   "outputs": [
    {
     "data": {
      "text/plain": [
       "0        2009-12-01 07:45:00\n",
       "1        2009-12-01 07:45:00\n",
       "2        2009-12-01 07:45:00\n",
       "3        2009-12-01 07:45:00\n",
       "4        2009-12-01 07:45:00\n",
       "                 ...        \n",
       "714043   2011-12-09 12:50:00\n",
       "714044   2011-12-09 12:50:00\n",
       "714045   2011-12-09 12:50:00\n",
       "714046   2011-12-09 12:50:00\n",
       "714047   2011-12-09 12:50:00\n",
       "Name: InvoiceDate, Length: 714048, dtype: datetime64[ns]"
      ]
     },
     "execution_count": 15,
     "metadata": {},
     "output_type": "execute_result"
    }
   ],
   "source": [
    "pd.to_datetime(dfs.InvoiceDate, errors='raise')"
   ]
  },
  {
   "cell_type": "code",
   "execution_count": 16,
   "id": "26fa743a-75ef-4028-b079-a549757b08b5",
   "metadata": {},
   "outputs": [],
   "source": [
    "dfs['InvoiceDate'] = pd.to_datetime(dfs['InvoiceDate']).dt.strftime('%Y-%m-%d')"
   ]
  },
  {
   "cell_type": "code",
   "execution_count": 17,
   "id": "e233df58-68b2-446e-a9cc-0a32f57992e4",
   "metadata": {
    "tags": []
   },
   "outputs": [
    {
     "name": "stdout",
     "output_type": "stream",
     "text": [
      "2009-12-01\n",
      "2011-12-09\n",
      "missing date: []\n"
     ]
    }
   ],
   "source": [
    "# check date series\n",
    "min_date = dfs.InvoiceDate.min()\n",
    "max_date = dfs.InvoiceDate.max()\n",
    "date_range = pd.date_range(min_date, max_date, freq='D')\n",
    "date_lst = dfs.InvoiceDate.unique()\n",
    "print(min_date)\n",
    "print(max_date)\n",
    "print(f\"missing date: {[x for x in date_lst if x not in date_range]}\")"
   ]
  },
  {
   "cell_type": "code",
   "execution_count": null,
   "id": "5b2d02d9-69d9-419a-8904-9d1c37c2aa7b",
   "metadata": {},
   "outputs": [],
   "source": []
  },
  {
   "cell_type": "markdown",
   "id": "ef4cc30f-c2ee-4e7c-b61a-fa374ab939d0",
   "metadata": {},
   "source": [
    "#### Price"
   ]
  },
  {
   "cell_type": "code",
   "execution_count": 18,
   "id": "f62fd4f4-26cd-4817-b5d9-40bd297fe19d",
   "metadata": {},
   "outputs": [
    {
     "data": {
      "text/plain": [
       "True"
      ]
     },
     "execution_count": 18,
     "metadata": {},
     "output_type": "execute_result"
    }
   ],
   "source": [
    "float == dfs['Price'].dtypes or int == dfs['Price'].dtypes"
   ]
  },
  {
   "cell_type": "code",
   "execution_count": 19,
   "id": "708a9454-a142-431e-9813-8d833e162d04",
   "metadata": {},
   "outputs": [
    {
     "data": {
      "text/plain": [
       "False"
      ]
     },
     "execution_count": 19,
     "metadata": {},
     "output_type": "execute_result"
    }
   ],
   "source": [
    "0 == any(dfs['Price'])"
   ]
  },
  {
   "cell_type": "markdown",
   "id": "63e4a621-91a3-4582-9270-bcca57468d4f",
   "metadata": {},
   "source": [
    "#### Customer ID"
   ]
  },
  {
   "cell_type": "code",
   "execution_count": 20,
   "id": "e0364289-d54a-4d1e-817e-e32c06e2d2e2",
   "metadata": {},
   "outputs": [],
   "source": [
    "dfs['Customer ID'] = dfs['Customer ID'].astype(int)"
   ]
  },
  {
   "cell_type": "code",
   "execution_count": 21,
   "id": "cc28c26c-a9a1-42ce-b79e-7ebbf0286247",
   "metadata": {},
   "outputs": [
    {
     "data": {
      "text/plain": [
       "{5}"
      ]
     },
     "execution_count": 21,
     "metadata": {},
     "output_type": "execute_result"
    }
   ],
   "source": [
    "set(dfs['Customer ID'].astype(str).str.len())"
   ]
  },
  {
   "cell_type": "code",
   "execution_count": 22,
   "id": "ed7d840e-36f2-4046-be8b-6fcab519598b",
   "metadata": {},
   "outputs": [
    {
     "name": "stdout",
     "output_type": "stream",
     "text": [
      "<class 'pandas.core.frame.DataFrame'>\n",
      "RangeIndex: 714048 entries, 0 to 714047\n",
      "Data columns (total 8 columns):\n",
      " #   Column       Non-Null Count   Dtype  \n",
      "---  ------       --------------   -----  \n",
      " 0   Invoice      714048 non-null  object \n",
      " 1   StockCode    714048 non-null  object \n",
      " 2   Description  714048 non-null  object \n",
      " 3   Quantity     714048 non-null  int64  \n",
      " 4   InvoiceDate  714048 non-null  object \n",
      " 5   Price        714048 non-null  float64\n",
      " 6   Customer ID  714048 non-null  int32  \n",
      " 7   Country      714048 non-null  object \n",
      "dtypes: float64(1), int32(1), int64(1), object(5)\n",
      "memory usage: 40.9+ MB\n"
     ]
    }
   ],
   "source": [
    "dfs.info()"
   ]
  },
  {
   "cell_type": "code",
   "execution_count": 23,
   "id": "eef646d6-1d7c-4062-9c81-b24e762c0a38",
   "metadata": {},
   "outputs": [],
   "source": [
    "dfs['Revenue'] = dfs['Price'] * dfs['Quantity']"
   ]
  },
  {
   "cell_type": "code",
   "execution_count": 24,
   "id": "c8a9a4e1-91d2-4c38-9cd5-a3df1df209a5",
   "metadata": {},
   "outputs": [
    {
     "name": "stdout",
     "output_type": "stream",
     "text": [
      "<class 'pandas.core.frame.DataFrame'>\n",
      "RangeIndex: 714048 entries, 0 to 714047\n",
      "Data columns (total 9 columns):\n",
      " #   Column       Non-Null Count   Dtype  \n",
      "---  ------       --------------   -----  \n",
      " 0   Invoice      714048 non-null  object \n",
      " 1   StockCode    714048 non-null  object \n",
      " 2   Description  714048 non-null  object \n",
      " 3   Quantity     714048 non-null  int64  \n",
      " 4   InvoiceDate  714048 non-null  object \n",
      " 5   Price        714048 non-null  float64\n",
      " 6   Customer ID  714048 non-null  int32  \n",
      " 7   Country      714048 non-null  object \n",
      " 8   Revenue      714048 non-null  float64\n",
      "dtypes: float64(2), int32(1), int64(1), object(5)\n",
      "memory usage: 46.3+ MB\n"
     ]
    }
   ],
   "source": [
    "dfs.info()"
   ]
  },
  {
   "cell_type": "markdown",
   "id": "b66482eb-f2d0-49e9-a75d-42cb3e47d738",
   "metadata": {},
   "source": [
    "#### ok. đã đảm bảo đủ thông tin khách hàng với các thuộc tính đúng"
   ]
  },
  {
   "cell_type": "code",
   "execution_count": 25,
   "id": "2eea7744-433c-4cce-993a-07118c55b22a",
   "metadata": {},
   "outputs": [
    {
     "data": {
      "text/plain": [
       "5818"
      ]
     },
     "execution_count": 25,
     "metadata": {},
     "output_type": "execute_result"
    }
   ],
   "source": [
    "dfs['Customer ID'].nunique()"
   ]
  },
  {
   "cell_type": "code",
   "execution_count": null,
   "id": "7bfbe8c4-29dd-4ef7-ba50-0c07fe252f82",
   "metadata": {},
   "outputs": [],
   "source": []
  },
  {
   "cell_type": "code",
   "execution_count": null,
   "id": "84b05829-dff7-4eb4-8684-5f873db9f8d4",
   "metadata": {},
   "outputs": [],
   "source": []
  },
  {
   "cell_type": "markdown",
   "id": "073e2516-23c5-426f-a92c-fadc18f48840",
   "metadata": {},
   "source": [
    "#### tiến hành tính toán"
   ]
  },
  {
   "cell_type": "code",
   "execution_count": 26,
   "id": "f170dfad-5abd-464d-9bc0-435e2109c99d",
   "metadata": {},
   "outputs": [
    {
     "data": {
      "text/html": [
       "<div>\n",
       "<style scoped>\n",
       "    .dataframe tbody tr th:only-of-type {\n",
       "        vertical-align: middle;\n",
       "    }\n",
       "\n",
       "    .dataframe tbody tr th {\n",
       "        vertical-align: top;\n",
       "    }\n",
       "\n",
       "    .dataframe thead th {\n",
       "        text-align: right;\n",
       "    }\n",
       "</style>\n",
       "<table border=\"1\" class=\"dataframe\">\n",
       "  <thead>\n",
       "    <tr style=\"text-align: right;\">\n",
       "      <th></th>\n",
       "      <th>Customer ID</th>\n",
       "      <th>Recency</th>\n",
       "      <th>Frequency</th>\n",
       "      <th>Monetary</th>\n",
       "    </tr>\n",
       "  </thead>\n",
       "  <tbody>\n",
       "    <tr>\n",
       "      <th>0</th>\n",
       "      <td>12346</td>\n",
       "      <td>325</td>\n",
       "      <td>3</td>\n",
       "      <td>77327.62</td>\n",
       "    </tr>\n",
       "    <tr>\n",
       "      <th>1</th>\n",
       "      <td>12347</td>\n",
       "      <td>2</td>\n",
       "      <td>8</td>\n",
       "      <td>4620.32</td>\n",
       "    </tr>\n",
       "    <tr>\n",
       "      <th>2</th>\n",
       "      <td>12348</td>\n",
       "      <td>75</td>\n",
       "      <td>5</td>\n",
       "      <td>1658.40</td>\n",
       "    </tr>\n",
       "    <tr>\n",
       "      <th>3</th>\n",
       "      <td>12349</td>\n",
       "      <td>18</td>\n",
       "      <td>3</td>\n",
       "      <td>3319.06</td>\n",
       "    </tr>\n",
       "    <tr>\n",
       "      <th>4</th>\n",
       "      <td>12350</td>\n",
       "      <td>310</td>\n",
       "      <td>1</td>\n",
       "      <td>258.00</td>\n",
       "    </tr>\n",
       "  </tbody>\n",
       "</table>\n",
       "</div>"
      ],
      "text/plain": [
       "   Customer ID  Recency  Frequency  Monetary\n",
       "0        12346      325          3  77327.62\n",
       "1        12347        2          8   4620.32\n",
       "2        12348       75          5   1658.40\n",
       "3        12349       18          3   3319.06\n",
       "4        12350      310          1    258.00"
      ]
     },
     "execution_count": 26,
     "metadata": {},
     "output_type": "execute_result"
    }
   ],
   "source": [
    "def create_rfm_dataframe(dfs):\n",
    "    last_date_in_dfs = dfs.InvoiceDate.max()\n",
    "    ddf = dfs.groupby('Customer ID').agg(\n",
    "        Recency=('InvoiceDate', lambda x: (pd.to_datetime(last_date_in_dfs) - pd.to_datetime(x.max())).days),\n",
    "        Frequency=('InvoiceDate', lambda x: x.nunique()),\n",
    "        Monetary=(\"Revenue\", np.sum)\n",
    "    ).reset_index()\n",
    "    return ddf\n",
    "rfm_dfs = create_rfm_dataframe(dfs)\n",
    "rfm_dfs.head()"
   ]
  },
  {
   "cell_type": "code",
   "execution_count": 27,
   "id": "76a0896c-5079-4459-a69d-4c4e556d89c6",
   "metadata": {},
   "outputs": [],
   "source": [
    "def calc_rfm_score(dfs):\n",
    "    \"\"\"\n",
    "    method: equal frequency binning -> pandas function: pandas.qcut()\n",
    "    lowest 1 -> 5 highest\n",
    "    Recency = 5: Mới mua hàng gần đây\n",
    "    Frequency = 5: Tần suất mua cao\n",
    "    Monatary = 5: Chi tiêu nhiều\n",
    "    \"\"\"\n",
    "    dfs['r_score'] = pd.qcut(dfs['Recency'].rank(method='first'), q=5, labels=[5, 4, 3, 2, 1])\n",
    "    dfs['f_score'] = pd.qcut(dfs['Frequency'].rank(method='first'), q=5, labels=[1, 2, 3, 4, 5])\n",
    "    dfs['m_score'] = pd.qcut(dfs['Monetary'].rank(method='first'), q=5, labels=[1, 2, 3, 4, 5])\n",
    "    dfs['rfm_score'] = dfs['r_score'].astype(str)+dfs['f_score'].astype(str)+dfs['m_score'].astype(str)\n",
    "    return dfs"
   ]
  },
  {
   "cell_type": "code",
   "execution_count": 28,
   "id": "9705a6e0-da3f-43d5-87d1-5c6edd6f7004",
   "metadata": {},
   "outputs": [
    {
     "data": {
      "text/html": [
       "<div>\n",
       "<style scoped>\n",
       "    .dataframe tbody tr th:only-of-type {\n",
       "        vertical-align: middle;\n",
       "    }\n",
       "\n",
       "    .dataframe tbody tr th {\n",
       "        vertical-align: top;\n",
       "    }\n",
       "\n",
       "    .dataframe thead th {\n",
       "        text-align: right;\n",
       "    }\n",
       "</style>\n",
       "<table border=\"1\" class=\"dataframe\">\n",
       "  <thead>\n",
       "    <tr style=\"text-align: right;\">\n",
       "      <th></th>\n",
       "      <th>Customer ID</th>\n",
       "      <th>Recency</th>\n",
       "      <th>Frequency</th>\n",
       "      <th>Monetary</th>\n",
       "      <th>r_score</th>\n",
       "      <th>f_score</th>\n",
       "      <th>m_score</th>\n",
       "      <th>rfm_score</th>\n",
       "    </tr>\n",
       "  </thead>\n",
       "  <tbody>\n",
       "    <tr>\n",
       "      <th>0</th>\n",
       "      <td>12346</td>\n",
       "      <td>325</td>\n",
       "      <td>3</td>\n",
       "      <td>77327.62</td>\n",
       "      <td>2</td>\n",
       "      <td>3</td>\n",
       "      <td>5</td>\n",
       "      <td>235</td>\n",
       "    </tr>\n",
       "    <tr>\n",
       "      <th>1</th>\n",
       "      <td>12347</td>\n",
       "      <td>2</td>\n",
       "      <td>8</td>\n",
       "      <td>4620.32</td>\n",
       "      <td>5</td>\n",
       "      <td>5</td>\n",
       "      <td>5</td>\n",
       "      <td>555</td>\n",
       "    </tr>\n",
       "    <tr>\n",
       "      <th>2</th>\n",
       "      <td>12348</td>\n",
       "      <td>75</td>\n",
       "      <td>5</td>\n",
       "      <td>1658.40</td>\n",
       "      <td>3</td>\n",
       "      <td>4</td>\n",
       "      <td>4</td>\n",
       "      <td>344</td>\n",
       "    </tr>\n",
       "    <tr>\n",
       "      <th>3</th>\n",
       "      <td>12349</td>\n",
       "      <td>18</td>\n",
       "      <td>3</td>\n",
       "      <td>3319.06</td>\n",
       "      <td>5</td>\n",
       "      <td>3</td>\n",
       "      <td>5</td>\n",
       "      <td>535</td>\n",
       "    </tr>\n",
       "    <tr>\n",
       "      <th>4</th>\n",
       "      <td>12350</td>\n",
       "      <td>310</td>\n",
       "      <td>1</td>\n",
       "      <td>258.00</td>\n",
       "      <td>2</td>\n",
       "      <td>1</td>\n",
       "      <td>2</td>\n",
       "      <td>212</td>\n",
       "    </tr>\n",
       "  </tbody>\n",
       "</table>\n",
       "</div>"
      ],
      "text/plain": [
       "   Customer ID  Recency  Frequency  Monetary r_score f_score m_score rfm_score\n",
       "0        12346      325          3  77327.62       2       3       5       235\n",
       "1        12347        2          8   4620.32       5       5       5       555\n",
       "2        12348       75          5   1658.40       3       4       4       344\n",
       "3        12349       18          3   3319.06       5       3       5       535\n",
       "4        12350      310          1    258.00       2       1       2       212"
      ]
     },
     "execution_count": 28,
     "metadata": {},
     "output_type": "execute_result"
    }
   ],
   "source": [
    "ddf = calc_rfm_score(rfm_dfs)\n",
    "ddf.head()"
   ]
  },
  {
   "cell_type": "code",
   "execution_count": null,
   "id": "cd68aaba-a09c-462d-9172-cf886e9586bd",
   "metadata": {},
   "outputs": [],
   "source": []
  },
  {
   "cell_type": "markdown",
   "id": "a6373cd9-42fb-4155-9160-fae23d0f77fd",
   "metadata": {},
   "source": [
    "### gắn nhãn"
   ]
  },
  {
   "cell_type": "markdown",
   "id": "ae2876c3-1601-4799-b4c1-047fad2ca502",
   "metadata": {},
   "source": [
    "![caption](user_segments.png)"
   ]
  },
  {
   "cell_type": "code",
   "execution_count": 29,
   "id": "920de9de-e2db-4392-9c8b-0810cf901973",
   "metadata": {},
   "outputs": [],
   "source": [
    "# việc lựa chọn các rfm để áp vào các phân loại là dựa trên các thuộc tính  R - F - M"
   ]
  },
  {
   "cell_type": "code",
   "execution_count": 49,
   "id": "b5177b52-9961-4678-93db-8323ff001abd",
   "metadata": {},
   "outputs": [],
   "source": [
    "champions = ['555', '554', '545', '544', '455', '454', '445', '444']\n",
    "loyal_customers = ['553', '543', '453', '443', '355', '354', '345', '344']\n",
    "potential_loyalist = [\n",
    "    '552', '542', '541', '535', '534', '533', '532', '531', '452', '442', \n",
    "    '441', '435', '434', '433', '432', '431', '353', '352', '351', '451', \n",
    "    '423', '413', '551', '525', '524', '515', '512']\n",
    "about_to_sleep = ['331', '322', '321', '312', '311', '242', '241', '232', '231', '221']\n",
    "at_risk = ['255', '254', '253', '252', '251', '245', '244', '243', '235', '234', '233', '225', '215']\n",
    "cannot_lose_them = ['155', '154', '145', '144', '135', '125', '124', '114']\n",
    "hibernating = [\n",
    "    '223', '222', '212', '211', '153', '152', '142', '134', \n",
    "    '133', '132', '123', '131', '122', '121', '113', '112', \n",
    "    '111', '224', '214', '213', '151', '143', '141']\n",
    "need_attention = ['343', '342', '341', '335', '334', '333', '332', '325', '324', '323', '315', '314', '313']\n",
    "new_customers = ['522', '521', '511', '422', '421', '412', '411']\n",
    "promissing = ['523', '514', '513', '425', '424', '415', '414', '115']"
   ]
  },
  {
   "cell_type": "code",
   "execution_count": 50,
   "id": "4ef57e5f-02db-4f2c-b74b-076a62ee716d",
   "metadata": {},
   "outputs": [],
   "source": [
    "cond = [\n",
    "    ddf['rfm_score'].isin(about_to_sleep),\n",
    "    ddf['rfm_score'].isin(at_risk),\n",
    "    ddf['rfm_score'].isin(cannot_lose_them),\n",
    "    ddf['rfm_score'].isin(champions),\n",
    "    ddf['rfm_score'].isin(hibernating),\n",
    "    ddf['rfm_score'].isin(loyal_customers),\n",
    "    ddf['rfm_score'].isin(need_attention),\n",
    "    ddf['rfm_score'].isin(new_customers),\n",
    "    ddf['rfm_score'].isin(potential_loyalist),\n",
    "    ddf['rfm_score'].isin(promissing)\n",
    "    \n",
    "]\n",
    "\n",
    "choice = [\n",
    "    'About to Sleep',\n",
    "    'At Risk',\n",
    "    'Cannot Lose Them',\n",
    "    'Champions',\n",
    "    'Hibernating',\n",
    "    'Loyal Customers',\n",
    "    'Need Attention',\n",
    "    'New Customers',\n",
    "    'Potential Loyalists',\n",
    "    'Promising',\n",
    "]\n",
    "\n",
    "ddf['segmt'] = np.select(cond, choice, 'undefined')"
   ]
  },
  {
   "cell_type": "code",
   "execution_count": 51,
   "id": "91a6141e-8850-410b-a70a-c4d20cb351ad",
   "metadata": {},
   "outputs": [
    {
     "name": "stdout",
     "output_type": "stream",
     "text": [
      "<class 'pandas.core.frame.DataFrame'>\n",
      "RangeIndex: 5818 entries, 0 to 5817\n",
      "Data columns (total 9 columns):\n",
      " #   Column       Non-Null Count  Dtype   \n",
      "---  ------       --------------  -----   \n",
      " 0   Customer ID  5818 non-null   int64   \n",
      " 1   Recency      5818 non-null   int64   \n",
      " 2   Frequency    5818 non-null   int64   \n",
      " 3   Monetary     5818 non-null   float64 \n",
      " 4   r_score      5818 non-null   category\n",
      " 5   f_score      5818 non-null   category\n",
      " 6   m_score      5818 non-null   category\n",
      " 7   rfm_score    5818 non-null   object  \n",
      " 8   segmt        5818 non-null   object  \n",
      "dtypes: category(3), float64(1), int64(3), object(2)\n",
      "memory usage: 290.5+ KB\n"
     ]
    }
   ],
   "source": [
    "ddf.info()"
   ]
  },
  {
   "cell_type": "code",
   "execution_count": 52,
   "id": "7eed7d91-b2a9-4a5c-b42c-09bba64ccf45",
   "metadata": {},
   "outputs": [
    {
     "data": {
      "text/plain": [
       "array([], dtype=object)"
      ]
     },
     "execution_count": 52,
     "metadata": {},
     "output_type": "execute_result"
    }
   ],
   "source": [
    "ddf[ddf['segmt']=='undefined'].rfm_score.unique()"
   ]
  },
  {
   "cell_type": "code",
   "execution_count": 53,
   "id": "248304d5-462f-46b0-9add-9e1cf292a148",
   "metadata": {},
   "outputs": [
    {
     "data": {
      "text/plain": [
       "segmt\n",
       "About to Sleep          538\n",
       "At Risk                 420\n",
       "Cannot Lose Them         86\n",
       "Champions              1271\n",
       "Hibernating            1563\n",
       "Loyal Customers         573\n",
       "Need Attention          459\n",
       "New Customers           286\n",
       "Potential Loyalists     562\n",
       "Promising                60\n",
       "Name: Customer ID, dtype: int64"
      ]
     },
     "execution_count": 53,
     "metadata": {},
     "output_type": "execute_result"
    }
   ],
   "source": [
    "ddf.groupby('segmt')['Customer ID'].nunique()"
   ]
  },
  {
   "cell_type": "code",
   "execution_count": 54,
   "id": "1fb7aa0e-d768-42cc-b280-3a9048bce35d",
   "metadata": {},
   "outputs": [
    {
     "data": {
      "text/plain": [
       "segmt\n",
       "Hibernating            0.268649\n",
       "Champions              0.218460\n",
       "Loyal Customers        0.098487\n",
       "Potential Loyalists    0.096597\n",
       "About to Sleep         0.092472\n",
       "Need Attention         0.078893\n",
       "At Risk                0.072190\n",
       "New Customers          0.049158\n",
       "Cannot Lose Them       0.014782\n",
       "Promising              0.010313\n",
       "Name: Customer ID, dtype: float64"
      ]
     },
     "execution_count": 54,
     "metadata": {},
     "output_type": "execute_result"
    }
   ],
   "source": [
    "(ddf.groupby('segmt')['Customer ID'].nunique()/ddf['Customer ID'].nunique()).sort_values(ascending=False)"
   ]
  },
  {
   "cell_type": "code",
   "execution_count": 55,
   "id": "a344ccb6-fee2-4b83-b57e-9c6ace93e927",
   "metadata": {},
   "outputs": [
    {
     "data": {
      "text/plain": [
       "True"
      ]
     },
     "execution_count": 55,
     "metadata": {},
     "output_type": "execute_result"
    }
   ],
   "source": [
    "5818==ddf['Customer ID'].nunique()"
   ]
  },
  {
   "cell_type": "code",
   "execution_count": 56,
   "id": "82afe6b5-a1ca-43d3-9914-2ebf1afcc852",
   "metadata": {},
   "outputs": [],
   "source": [
    "cols = ['Customer ID', 'Recency','Frequency', 'Monetary', 'r_score', 'f_score','m_score', 'rfm_score', 'segmt']"
   ]
  },
  {
   "cell_type": "code",
   "execution_count": 59,
   "id": "c90cd183-e392-4ecc-b172-6960024560da",
   "metadata": {},
   "outputs": [],
   "source": [
    "ddf[cols].to_excel(\"rfm_data1.xlsx\", index=False)"
   ]
  },
  {
   "cell_type": "code",
   "execution_count": 60,
   "id": "d7fb60a5-23d1-4abe-863e-5830f97917d4",
   "metadata": {},
   "outputs": [
    {
     "name": "stdout",
     "output_type": "stream",
     "text": [
      "At Risk\n",
      "['235' '233' '243' '245' '234' '215' '255' '225' '244' '254' '253']\n",
      "|    |   Customer ID |   Recency |   Frequency |   Monetary |   r_score |   f_score |   m_score |   rfm_score | segmt   |\n",
      "|---:|--------------:|----------:|------------:|-----------:|----------:|----------:|----------:|------------:|:--------|\n",
      "|  0 |         12346 |       325 |           3 |   77327.6  |         2 |         3 |         5 |         235 | At Risk |\n",
      "| 27 |         12373 |       311 |           3 |     869.15 |         2 |         3 |         3 |         233 | At Risk |\n",
      "| 31 |         12377 |       315 |           4 |    2991.78 |         2 |         3 |         5 |         235 | At Risk |\n",
      "| 42 |         12389 |       402 |           3 |    1070.33 |         2 |         3 |         3 |         233 | At Risk |\n",
      "| 55 |         12402 |       323 |           6 |    1039.4  |         2 |         4 |         3 |         243 | At Risk |\n",
      "\n",
      "\n",
      "----------------------------------------------------------------------------------------------------\n",
      "Champions\n",
      "['555' '454' '445' '544' '455' '444' '554' '545']\n",
      "|    |   Customer ID |   Recency |   Frequency |   Monetary |   r_score |   f_score |   m_score |   rfm_score | segmt     |\n",
      "|---:|--------------:|----------:|------------:|-----------:|----------:|----------:|----------:|------------:|:----------|\n",
      "|  1 |         12347 |         2 |           8 |    4620.32 |         5 |         5 |         5 |         555 | Champions |\n",
      "|  6 |         12352 |        36 |           9 |    1705.64 |         4 |         5 |         4 |         454 | Champions |\n",
      "| 10 |         12356 |        22 |           6 |    4499.21 |         4 |         4 |         5 |         445 | Champions |\n",
      "| 12 |         12358 |         1 |           5 |    1523.47 |         5 |         4 |         4 |         544 | Champions |\n",
      "| 13 |         12359 |        57 |          10 |    8512.06 |         4 |         5 |         5 |         455 | Champions |\n",
      "\n",
      "\n",
      "----------------------------------------------------------------------------------------------------\n",
      "Loyal Customers\n",
      "['344' '345' '543' '355' '443' '354' '453' '553']\n",
      "|    |   Customer ID |   Recency |   Frequency |   Monetary |   r_score |   f_score |   m_score |   rfm_score | segmt           |\n",
      "|---:|--------------:|----------:|------------:|-----------:|----------:|----------:|----------:|------------:|:----------------|\n",
      "|  2 |         12348 |        75 |           5 |    1658.4  |         3 |         4 |         4 |         344 | Loyal Customers |\n",
      "| 36 |         12383 |       184 |           5 |    1498.36 |         3 |         4 |         4 |         344 | Loyal Customers |\n",
      "| 46 |         12393 |        72 |           6 |    2337.85 |         3 |         4 |         4 |         344 | Loyal Customers |\n",
      "| 52 |         12399 |       119 |           7 |    1762.26 |         3 |         4 |         4 |         344 | Loyal Customers |\n",
      "| 61 |         12409 |        78 |           7 |   21394.7  |         3 |         4 |         5 |         345 | Loyal Customers |\n",
      "\n",
      "\n",
      "----------------------------------------------------------------------------------------------------\n",
      "Potential Loyalists\n",
      "['535' '534' '434' '433' '524' '413' '512' '435' '423' '533' '532' '353'\n",
      " '525' '442' '431' '542' '432' '531' '452' '515' '441' '552' '351']\n",
      "|    |   Customer ID |   Recency |   Frequency |   Monetary |   r_score |   f_score |   m_score |   rfm_score | segmt               |\n",
      "|---:|--------------:|----------:|------------:|-----------:|----------:|----------:|----------:|------------:|:--------------------|\n",
      "|  3 |         12349 |        18 |           3 |    3319.06 |         5 |         3 |         5 |         535 | Potential Loyalists |\n",
      "| 18 |         12364 |         7 |           4 |    1133.4  |         5 |         3 |         4 |         534 | Potential Loyalists |\n",
      "| 28 |         12374 |        25 |           3 |    2232.27 |         4 |         3 |         4 |         434 | Potential Loyalists |\n",
      "| 35 |         12381 |         4 |           3 |    1408.15 |         5 |         3 |         4 |         534 | Potential Loyalists |\n",
      "| 79 |         12427 |        21 |           3 |     949.3  |         4 |         3 |         3 |         433 | Potential Loyalists |\n",
      "\n",
      "\n",
      "----------------------------------------------------------------------------------------------------\n",
      "Hibernating\n",
      "['212' '222' '213' '223' '112' '113' '134' '214' '111' '211' '224' '123'\n",
      " '122' '133' '121' '132' '131' '143' '142' '141' '152' '153']\n",
      "|    |   Customer ID |   Recency |   Frequency |   Monetary |   r_score |   f_score |   m_score |   rfm_score | segmt       |\n",
      "|---:|--------------:|----------:|------------:|-----------:|----------:|----------:|----------:|------------:|:------------|\n",
      "|  4 |         12350 |       310 |           1 |     258    |         2 |         1 |         2 |         212 | Hibernating |\n",
      "|  5 |         12351 |       375 |           1 |     300.93 |         2 |         1 |         2 |         212 | Hibernating |\n",
      "|  7 |         12353 |       204 |           2 |     406.76 |         2 |         2 |         2 |         222 | Hibernating |\n",
      "|  8 |         12354 |       232 |           1 |    1062.8  |         2 |         1 |         3 |         213 | Hibernating |\n",
      "|  9 |         12355 |       214 |           2 |     692.51 |         2 |         2 |         3 |         223 | Hibernating |\n",
      "\n",
      "\n",
      "----------------------------------------------------------------------------------------------------\n",
      "Promising\n",
      "['425' '424' '414' '523' '513' '115']\n",
      "|     |   Customer ID |   Recency |   Frequency |   Monetary |   r_score |   f_score |   m_score |   rfm_score | segmt     |\n",
      "|----:|--------------:|----------:|------------:|-----------:|----------:|----------:|----------:|------------:|:----------|\n",
      "|  11 |         12357 |        33 |           2 |   15770.2  |         4 |         2 |         5 |         425 | Promising |\n",
      "|  50 |         12397 |        35 |           2 |    2199.9  |         4 |         2 |         4 |         424 | Promising |\n",
      "|  51 |         12398 |        45 |           1 |    1381.46 |         4 |         1 |         4 |         414 | Promising |\n",
      "|  84 |         12432 |        42 |           2 |    3242.12 |         4 |         2 |         5 |         425 | Promising |\n",
      "| 114 |         12462 |        18 |           2 |     907.39 |         5 |         2 |         3 |         523 | Promising |\n",
      "\n",
      "\n",
      "----------------------------------------------------------------------------------------------------\n",
      "About to Sleep\n",
      "['232' '312' '322' '311' '242' '321' '331' '221' '231' '241']\n",
      "|     |   Customer ID |   Recency |   Frequency |   Monetary |   r_score |   f_score |   m_score |   rfm_score | segmt          |\n",
      "|----:|--------------:|----------:|------------:|-----------:|----------:|----------:|----------:|------------:|:---------------|\n",
      "|  15 |         12361 |       287 |           4 |     451.25 |         2 |         3 |         2 |         232 | About to Sleep |\n",
      "|  43 |         12390 |        79 |           1 |     494.34 |         3 |         1 |         2 |         312 | About to Sleep |\n",
      "|  66 |         12414 |       217 |           4 |     340.56 |         2 |         3 |         2 |         232 | About to Sleep |\n",
      "|  88 |         12436 |        99 |           1 |     330.91 |         3 |         1 |         2 |         312 | About to Sleep |\n",
      "| 144 |         12493 |       165 |           2 |     379.74 |         3 |         2 |         2 |         322 | About to Sleep |\n",
      "\n",
      "\n",
      "----------------------------------------------------------------------------------------------------\n",
      "Need Attention\n",
      "['323' '335' '334' '325' '314' '333' '313' '324' '343' '332' '342' '315'\n",
      " '341']\n",
      "|    |   Customer ID |   Recency |   Frequency |   Monetary |   r_score |   f_score |   m_score |   rfm_score | segmt          |\n",
      "|---:|--------------:|----------:|------------:|-----------:|----------:|----------:|----------:|------------:|:---------------|\n",
      "| 17 |         12363 |       109 |           2 |     552    |         3 |         2 |         3 |         323 | Need Attention |\n",
      "| 25 |         12371 |        59 |           3 |    2658.93 |         3 |         3 |         5 |         335 | Need Attention |\n",
      "| 26 |         12372 |        71 |           3 |    1164.54 |         3 |         3 |         4 |         334 | Need Attention |\n",
      "| 32 |         12378 |       129 |           2 |    5055.47 |         3 |         2 |         5 |         325 | Need Attention |\n",
      "| 33 |         12379 |        81 |           4 |    1399.82 |         3 |         3 |         4 |         334 | Need Attention |\n",
      "\n",
      "\n",
      "----------------------------------------------------------------------------------------------------\n",
      "New Customers\n",
      "['511' '522' '422' '411' '412' '421' '521']\n",
      "|    |   Customer ID |   Recency |   Frequency |   Monetary |   r_score |   f_score |   m_score |   rfm_score | segmt         |\n",
      "|---:|--------------:|----------:|------------:|-----------:|----------:|----------:|----------:|------------:|:--------------|\n",
      "| 21 |         12367 |         4 |           1 |     150.9  |         5 |         1 |         1 |         511 | New Customers |\n",
      "| 29 |         12375 |        10 |           2 |     286.1  |         5 |         2 |         2 |         522 | New Customers |\n",
      "| 37 |         12384 |        28 |           2 |     371.62 |         4 |         2 |         2 |         422 | New Customers |\n",
      "| 56 |         12403 |        49 |           1 |       9.9  |         4 |         1 |         1 |         411 | New Customers |\n",
      "| 82 |         12430 |        43 |           1 |     216.4  |         4 |         1 |         1 |         411 | New Customers |\n",
      "\n",
      "\n",
      "----------------------------------------------------------------------------------------------------\n",
      "Cannot Lose Them\n",
      "['124' '145' '114' '144' '155' '135' '125' '154']\n",
      "|     |   Customer ID |   Recency |   Frequency |   Monetary |   r_score |   f_score |   m_score |   rfm_score | segmt            |\n",
      "|----:|--------------:|----------:|------------:|-----------:|----------:|----------:|----------:|------------:|:-----------------|\n",
      "| 120 |         12469 |       522 |           2 |    2421.21 |         1 |         2 |         4 |         124 | Cannot Lose Them |\n",
      "| 133 |         12482 |       576 |           5 |   21941.7  |         1 |         4 |         5 |         145 | Cannot Lose Them |\n",
      "| 317 |         12671 |       606 |           1 |    2567.88 |         1 |         1 |         4 |         114 | Cannot Lose Them |\n",
      "| 333 |         12687 |       480 |           1 |    1712.84 |         1 |         1 |         4 |         114 | Cannot Lose Them |\n",
      "| 356 |         12711 |       611 |           2 |    1153.38 |         1 |         2 |         4 |         124 | Cannot Lose Them |\n",
      "\n",
      "\n",
      "----------------------------------------------------------------------------------------------------\n"
     ]
    }
   ],
   "source": [
    "for v in ddf.segmt.unique():\n",
    "    print(v)\n",
    "    print(ddf[ddf['segmt']==v].rfm_score.unique())\n",
    "    print(ddf[ddf['segmt']==v].head().to_markdown())\n",
    "    print(\"\\n\")\n",
    "    print(\"-\"*100)"
   ]
  },
  {
   "cell_type": "code",
   "execution_count": null,
   "id": "5c27b728-f756-426b-847b-e3a6044e0ae9",
   "metadata": {},
   "outputs": [],
   "source": []
  }
 ],
 "metadata": {
  "kernelspec": {
   "display_name": "Python 3 (ipykernel)",
   "language": "python",
   "name": "python3"
  },
  "language_info": {
   "codemirror_mode": {
    "name": "ipython",
    "version": 3
   },
   "file_extension": ".py",
   "mimetype": "text/x-python",
   "name": "python",
   "nbconvert_exporter": "python",
   "pygments_lexer": "ipython3",
   "version": "3.10.7"
  }
 },
 "nbformat": 4,
 "nbformat_minor": 5
}
